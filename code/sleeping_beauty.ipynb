{
 "metadata": {
  "language_info": {
   "codemirror_mode": {
    "name": "ipython",
    "version": 3
   },
   "file_extension": ".py",
   "mimetype": "text/x-python",
   "name": "python",
   "nbconvert_exporter": "python",
   "pygments_lexer": "ipython3",
   "version": "3.8.5"
  },
  "orig_nbformat": 2,
  "kernelspec": {
   "name": "python385jvsc74a57bd0ecf5722fdaf1897a315d257d89d94520bfcaa453217d5becf09b39e73618b0de",
   "display_name": "Python 3.8.5 64-bit (conda)"
  }
 },
 "nbformat": 4,
 "nbformat_minor": 2,
 "cells": [
  {
   "cell_type": "code",
   "execution_count": 11,
   "metadata": {},
   "outputs": [],
   "source": [
    "import numpy as np \n",
    "import matplotlib.pyplot as plt \n",
    "import pandas as pd \n",
    "import os"
   ]
  },
  {
   "source": [
    "About <br>\n",
    "This notebook is for data collection and cleaning <br>\n",
    "* It reads in movies scripts\n",
    "* Sort different kinds of lines (stage setup, character, lines)\n",
    "<br><br>\n",
    "Goal: \n",
    "<ls>\n",
    "- Emotion Composition \n",
    "--> Need to know line position\n",
    "- Character Relationship \n",
    "--> Need to know character appearance\n",
    "</ls>\n",
    "<br>"
   ],
   "cell_type": "markdown",
   "metadata": {}
  },
  {
   "cell_type": "code",
   "execution_count": 13,
   "metadata": {},
   "outputs": [],
   "source": [
    "# 1) read in the scripts: character, line\n",
    "path = \"..\\\\scripts\\\\sleeping_beauty.txt\"\n",
    "file = open(path, 'r')\n",
    "script = file.readlines()\n",
    "file.close()\n",
    "start, end = 75, 1156\n",
    "\n",
    "\n",
    "line_count = 0 # number of lines total \n",
    "characters = set() # all the characters\n",
    "lines = [] # character with their lines, index are the line numbers\n",
    "line_nums = [] # actual line numbers in the script\n",
    "\n",
    "\n",
    "# helper functions\n",
    "def remove_setup(string): \n",
    "    stack = False\n",
    "    new_str = \"\"\n",
    "    for s in string:\n",
    "        if s=='[':\n",
    "            stack = True\n",
    "        elif s==']':\n",
    "            stack = False\n",
    "        else: \n",
    "            if not stack:\n",
    "                new_str += s\n",
    "    return new_str.strip() \n",
    "\n",
    "def return_setup(string): \n",
    "    stack = False\n",
    "    new_str = \"\"\n",
    "    for s in string:\n",
    "        if s=='[':\n",
    "            stack = True\n",
    "        elif s==']':\n",
    "            stack = False\n",
    "        else: \n",
    "            if stack:\n",
    "                new_str += s\n",
    "    return new_str.strip() \n",
    "\n",
    "def remove_linebreak(string):\n",
    "    return string.replace('\\n', ' ')\n",
    "\n",
    "# iterate through the lines \n",
    "for i in range(start, end+1):\n",
    "    holder = script[i] # line that is being read\n",
    "    if ':' in holder:\n",
    "        character = holder[:-2]\n",
    "        characters.add(character) # record for unique characters\n",
    "        lines.append([character, \"\"])\n",
    "        line_count += 1\n",
    "        line_nums.append(i)\n",
    "    else:\n",
    "        if len(holder) != 0 and line_count != 0:\n",
    "            lines[line_count-1][1] += holder\n",
    "\n",
    "lines = np.array(lines)\n",
    "\n",
    "# # 2) put the lines into a df and store it \n",
    "# example: \n",
    "d = {\n",
    "        'chars':lines[:,0],\n",
    "        'lines': lines[:,1], \n",
    "    }\n",
    "scripts = pd.DataFrame(d)\n",
    "\n",
    "scripts['line_num'] = pd.Series(line_nums)\n",
    "scripts['mod_line'] = scripts.apply(lambda x: remove_linebreak(remove_setup(x.iloc[1])), axis=1)\n",
    "scripts['scene_setup'] = scripts.apply(lambda x: remove_linebreak(return_setup(x.iloc[1])), axis=1)\n",
    "\n",
    "out_path = os.path.join('..\\cleaned_scripts', 'sleeping_beauty.csv')\n",
    "scripts.to_csv(out_path)\n"
   ]
  },
  {
   "cell_type": "code",
   "execution_count": 10,
   "metadata": {},
   "outputs": [
    {
     "output_type": "execute_result",
     "data": {
      "text/plain": [
       "            chars                                              lines  \\\n",
       "0        Narrator  In a far away land, long ago, lived a king and...   \n",
       "1           Choir  Joyfully now to our princess we come,\\nBringin...   \n",
       "2        Narrator  Thus on this great and joyous day did all the ...   \n",
       "3       Announcer  Their royal highnesses, King Hubert and prince...   \n",
       "4        Narrator  Fondly had these monarchs dreamed one day thei...   \n",
       "..            ...                                                ...   \n",
       "440         Choir  I know you,\\nI walked with you\\nOnce upon a dr...   \n",
       "441  Merryweather                Blue! [the dress changes to blue]\\n   \n",
       "442         Choir  I know you,\\nThe gleam in your eyes\\nIs so fam...   \n",
       "443         Choir  And I know it's true\\nThat visions are seldom ...   \n",
       "444         Choir  You'll love me at once\\nThe way you did\\nOnce ...   \n",
       "\n",
       "     line_num                                           mod_line  \\\n",
       "0          77  In a far away land, long ago, lived a king and...   \n",
       "1          80  Joyfully now to our princess we come, Bringing...   \n",
       "2         101  Thus on this great and joyous day did all the ...   \n",
       "3         103  Their royal highnesses, King Hubert and prince...   \n",
       "4         105  Fondly had these monarchs dreamed one day thei...   \n",
       "..        ...                                                ...   \n",
       "440      1135    I know you, I walked with you Once upon a dream   \n",
       "441      1139                                              Blue!   \n",
       "442      1141  I know you, The gleam in your eyes Is so famil...   \n",
       "443      1146  And I know it's true That visions are seldom a...   \n",
       "444      1151  You'll love me at once The way you did Once up...   \n",
       "\n",
       "                                           scene_setup  \n",
       "0                  a crowd is on its way to the castle  \n",
       "1                                    inside the castle  \n",
       "2                                                       \n",
       "3                                                       \n",
       "4                                                       \n",
       "..                                                 ...  \n",
       "440                                                     \n",
       "441                          the dress changes to blue  \n",
       "442  The castle disappears around Aurora and Philli...  \n",
       "443  Aurora and Phillip kiss each other. The storyb...  \n",
       "444                                                     \n",
       "\n",
       "[445 rows x 5 columns]"
      ],
      "text/html": "<div>\n<style scoped>\n    .dataframe tbody tr th:only-of-type {\n        vertical-align: middle;\n    }\n\n    .dataframe tbody tr th {\n        vertical-align: top;\n    }\n\n    .dataframe thead th {\n        text-align: right;\n    }\n</style>\n<table border=\"1\" class=\"dataframe\">\n  <thead>\n    <tr style=\"text-align: right;\">\n      <th></th>\n      <th>chars</th>\n      <th>lines</th>\n      <th>line_num</th>\n      <th>mod_line</th>\n      <th>scene_setup</th>\n    </tr>\n  </thead>\n  <tbody>\n    <tr>\n      <th>0</th>\n      <td>Narrator</td>\n      <td>In a far away land, long ago, lived a king and...</td>\n      <td>77</td>\n      <td>In a far away land, long ago, lived a king and...</td>\n      <td>a crowd is on its way to the castle</td>\n    </tr>\n    <tr>\n      <th>1</th>\n      <td>Choir</td>\n      <td>Joyfully now to our princess we come,\\nBringin...</td>\n      <td>80</td>\n      <td>Joyfully now to our princess we come, Bringing...</td>\n      <td>inside the castle</td>\n    </tr>\n    <tr>\n      <th>2</th>\n      <td>Narrator</td>\n      <td>Thus on this great and joyous day did all the ...</td>\n      <td>101</td>\n      <td>Thus on this great and joyous day did all the ...</td>\n      <td></td>\n    </tr>\n    <tr>\n      <th>3</th>\n      <td>Announcer</td>\n      <td>Their royal highnesses, King Hubert and prince...</td>\n      <td>103</td>\n      <td>Their royal highnesses, King Hubert and prince...</td>\n      <td></td>\n    </tr>\n    <tr>\n      <th>4</th>\n      <td>Narrator</td>\n      <td>Fondly had these monarchs dreamed one day thei...</td>\n      <td>105</td>\n      <td>Fondly had these monarchs dreamed one day thei...</td>\n      <td></td>\n    </tr>\n    <tr>\n      <th>...</th>\n      <td>...</td>\n      <td>...</td>\n      <td>...</td>\n      <td>...</td>\n      <td>...</td>\n    </tr>\n    <tr>\n      <th>440</th>\n      <td>Choir</td>\n      <td>I know you,\\nI walked with you\\nOnce upon a dr...</td>\n      <td>1135</td>\n      <td>I know you, I walked with you Once upon a dream</td>\n      <td></td>\n    </tr>\n    <tr>\n      <th>441</th>\n      <td>Merryweather</td>\n      <td>Blue! [the dress changes to blue]\\n</td>\n      <td>1139</td>\n      <td>Blue!</td>\n      <td>the dress changes to blue</td>\n    </tr>\n    <tr>\n      <th>442</th>\n      <td>Choir</td>\n      <td>I know you,\\nThe gleam in your eyes\\nIs so fam...</td>\n      <td>1141</td>\n      <td>I know you, The gleam in your eyes Is so famil...</td>\n      <td>The castle disappears around Aurora and Philli...</td>\n    </tr>\n    <tr>\n      <th>443</th>\n      <td>Choir</td>\n      <td>And I know it's true\\nThat visions are seldom ...</td>\n      <td>1146</td>\n      <td>And I know it's true That visions are seldom a...</td>\n      <td>Aurora and Phillip kiss each other. The storyb...</td>\n    </tr>\n    <tr>\n      <th>444</th>\n      <td>Choir</td>\n      <td>You'll love me at once\\nThe way you did\\nOnce ...</td>\n      <td>1151</td>\n      <td>You'll love me at once The way you did Once up...</td>\n      <td></td>\n    </tr>\n  </tbody>\n</table>\n<p>445 rows × 5 columns</p>\n</div>"
     },
     "metadata": {},
     "execution_count": 10
    }
   ],
   "source": [
    "scripts"
   ]
  },
  {
   "cell_type": "markdown",
   "metadata": {
    "pycharm": {
     "name": "#%% md\n"
    }
   },
   "source": [
    "## Some issue about cleaning the scripts\n",
    "\n",
    "1) Different scripts follow a different format and text convention: the_little_mermaid.txt has different character <br>\n",
    "comparing to beauty_and_the_beast.txt; the cleaning code above can deal with: the_rescuers_down_under.txt,\n",
    "the_little_mermaid.txt, sleeping_beauty.txt (the testing file)\n",
    "\n",
    "2) Special formatted scripts: <br> \n",
    "* Special#1: lion_king.txt [the most unique one] <br>\n",
    "1) There are special dash divider\n",
    "2) '[]' contains the scene name under the divider\n",
    "3) '{}' contains the scene setup\n",
    "\n",
    "* Special#2: a_goofy_movie.txt <br> \n",
    "1) There are special dash divider\n",
    "2) setup is in '()'\n",
    "\n",
    "* Special#3: beauty_and_the_beast.txt, aladdin.txt, the_hunchback_of_notre_dame.txt <br>\n",
    "1) Speaker is on the same line as the line\n",
    "2) setup is in '()'\n",
    "\n",
    "* Special#4: mulan.txt [ignore this one for now] <br> \n",
    "1) scene description has no indicator [BIG PROBLEM]\n",
    "2) contains '***' separator\n",
    "3) speaker is on another line\n",
    "solution: use the html file and web scrape"
   ]
  },
  {
   "source": [
    "Now that we have the scripts, lets do a practive run on one of the line for some common NLP and Sentiment Analysis"
   ],
   "cell_type": "markdown",
   "metadata": {}
  },
  {
   "cell_type": "code",
   "execution_count": null,
   "metadata": {},
   "outputs": [],
   "source": [
    "in_path = os.path.join('..\\cleaned_scripts', 'sleeping_beauty.csv')\n",
    "\n",
    "sentence = read_csv(in_path).iloc[0]['mod_line']"
   ]
  }
 ]
}