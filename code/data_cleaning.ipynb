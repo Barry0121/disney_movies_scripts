{
 "metadata": {
  "language_info": {
   "codemirror_mode": {
    "name": "ipython",
    "version": 3
   },
   "file_extension": ".py",
   "mimetype": "text/x-python",
   "name": "python",
   "nbconvert_exporter": "python",
   "pygments_lexer": "ipython3",
   "version": "3.8.5-final"
  },
  "orig_nbformat": 2,
  "kernelspec": {
   "name": "python3",
   "display_name": "Python 3.8.5 64-bit (conda)",
   "metadata": {
    "interpreter": {
     "hash": "ecf5722fdaf1897a315d257d89d94520bfcaa453217d5becf09b39e73618b0de"
    }
   }
  }
 },
 "nbformat": 4,
 "nbformat_minor": 2,
 "cells": [
  {
   "cell_type": "code",
   "execution_count": 2,
   "metadata": {},
   "outputs": [],
   "source": [
    "import numpy as np \n",
    "import matplotlib.pyplot as plt \n",
    "import pandas as pd "
   ]
  },
  {
   "source": [
    "About <br>\n",
    "This notebook is for data collection and cleaning <br>\n",
    "* It reads in movies scripts\n",
    "* Sort different kinds of lines (stage setup, character, lines)\n",
    "<br><br>\n",
    "Goal: \n",
    "<ls>\n",
    "- Emotion Composition \n",
    "--> Need to know line position\n",
    "- Character Relationship \n",
    "--> Need to know character appearance\n",
    "</ls>\n",
    "<br>"
   ],
   "cell_type": "markdown",
   "metadata": {}
  },
  {
   "cell_type": "code",
   "execution_count": 55,
   "metadata": {},
   "outputs": [],
   "source": [
    "# read in the scripts according to the design\n",
    "path = \"..\\\\scripts\\\\sleeping_beauty.txt\"\n",
    "file = open(path, 'r')\n",
    "script = file.readlines()\n",
    "file.close()\n",
    "start, end = 75, 1156\n",
    "\n",
    "\n",
    "line_count = 0 # number of lines total \n",
    "characters = set() # all the characters\n",
    "lines = [] # character with their lines, index are the line numbers\n",
    "\n",
    "#TODO: get rid of '[...]', stage setup instructions, from the lines \n",
    "def remove_setup(string): \n",
    "    stack = False\n",
    "    new_str = \"\"\n",
    "    for s in string:\n",
    "        if s=='[':\n",
    "            stack = True\n",
    "        elif s==']':\n",
    "            stack = False\n",
    "        else: \n",
    "            if not stack:\n",
    "                new_str += s\n",
    "    return new_str.strip()\n",
    "\n",
    "\n",
    "for i in range(start, end+1):\n",
    "    holder = script[i] # line that is being read\n",
    "    if ':' in holder:\n",
    "        character = holder[:-2]\n",
    "        characters.add(character) # record for unique characters\n",
    "        lines.append([character, \"\"])\n",
    "        line_count += 1\n",
    "    else:\n",
    "        if len(holder) != 0 and line_count != 0:\n",
    "            lines[line_count-1][1] += holder\n",
    "\n",
    "lines = np.array(lines)"
   ]
  },
  {
   "cell_type": "markdown",
   "metadata": {
    "pycharm": {
     "name": "#%% md\n"
    }
   },
   "source": [
    "## Some issue about cleaning the scripts\n",
    "\n",
    "1) Different scripts follow a different format and text convention: the_little_mermaid.txt has different character\n",
    "comparing to beauty_and_the_beast.txt; the cleaning code above can deal with: the_rescuers_down_under.txt,\n",
    "the_little_mermaid.txt, sleeping_beauty.txt (the testing file)\n",
    "\n",
    "2) Special formatted scripts:\n",
    "* Special#1: lion_king.txt [the most unique one] <br>\n",
    "1) There are special dash divider\n",
    "2) '[]' contains the scene name under the divider\n",
    "3) '{}' contains the scene setup\n",
    "\n",
    "* Special#2: a_goofy_movie.txt\n",
    "1) There are special dash divider\n",
    "2) setup is in '()'\n",
    "\n",
    "* Special#3: beauty_and_the_beast.txt, aladdin.txt, the_hunchback_of_notre_dame.txt\n",
    "1) Speaker is on the same line as the line\n",
    "2) setup is in '()'\n",
    "\n",
    "* Special#4: mulan.txt [ignore this one for now]\n",
    "1) scene description has no indicator [BIG PROBLEM]\n",
    "2) contains '***' separator\n",
    "3) speaker is on another line\n",
    "solution: use the html file and web scrape"
   ]
  }
 ]
}