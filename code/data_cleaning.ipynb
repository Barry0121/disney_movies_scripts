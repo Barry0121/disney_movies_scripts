{
 "metadata": {
  "language_info": {
   "codemirror_mode": {
    "name": "ipython",
    "version": 3
   },
   "file_extension": ".py",
   "mimetype": "text/x-python",
   "name": "python",
   "nbconvert_exporter": "python",
   "pygments_lexer": "ipython3",
   "version": "3.8.5-final"
  },
  "orig_nbformat": 2,
  "kernelspec": {
   "name": "python3",
   "display_name": "Python 3.8.5 64-bit (conda)",
   "metadata": {
    "interpreter": {
     "hash": "ecf5722fdaf1897a315d257d89d94520bfcaa453217d5becf09b39e73618b0de"
    }
   }
  }
 },
 "nbformat": 4,
 "nbformat_minor": 2,
 "cells": [
  {
   "cell_type": "code",
   "execution_count": 2,
   "metadata": {},
   "outputs": [],
   "source": [
    "import numpy as np \n",
    "import matplotlib.pyplot as plt \n",
    "import pandas as pd "
   ]
  },
  {
   "source": [
    "About <br>\n",
    "This notebook is for data collection and cleaning <br>\n",
    "* It reads in movies scripts\n",
    "* Sort different kinds of lines (stage setup, character, lines)\n",
    "<br><br>\n",
    "Goal: \n",
    "<ls>\n",
    "- Emotion Composition \n",
    "--> Need to know line position\n",
    "- Character Relationship \n",
    "--> Need to know character appearance\n",
    "</ls>\n",
    "<br>"
   ],
   "cell_type": "markdown",
   "metadata": {}
  },
  {
   "cell_type": "code",
   "execution_count": 3,
   "metadata": {},
   "outputs": [],
   "source": [
    "path = r\"C:\\Users\\xueze\\OneDrive\\disney_movies_scripts\\scripts\\sleeping_beauty.txt\"\n",
    "file = open(path, 'r')\n",
    "script = file.readlines()\n",
    "start, end = 75, 1156\n",
    "\n",
    "\n",
    "line_counter = 0 # number of lines total \n",
    "characters = set() # all the characters\n",
    "lines = np.array([]) # character with their lines, index are the line numbers\n",
    "\n",
    "#TODO: get rid of '[...]' stage setup instructions from the lines \n",
    "def remove_setup(string): \n",
    "    return 0\n",
    "\n",
    "\n",
    "for i in range(start, end+1):\n",
    "    holder = script[i] # line that is being read\n",
    "    if holder[-1]==':':\n",
    "        character = holder[:-1]\n",
    "        characters.add(character) # record for unique characters\n",
    "        lines = np.append()\n",
    "\n",
    "        lines = np.append(lines, [holder[:-1]]) # create list to store line\n",
    "        line_counter += 1 # update counter\n",
    "    elif len(holder)==0 or line_counter==0: \n",
    "        continue\n",
    "    else:\n",
    "        #remove_setup(line) # doesn't do anything yet\n",
    "        lines[line_counter-1].append(holder) # add to the line \n",
    "\n"
   ]
  },
  {
   "cell_type": "code",
   "execution_count": null,
   "metadata": {},
   "outputs": [],
   "source": []
  }
 ]
}